{
 "cells": [
  {
   "cell_type": "markdown",
   "metadata": {},
   "source": [
    "## Poker hand classification"
   ]
  },
  {
   "cell_type": "markdown",
   "metadata": {},
   "source": [
    "Biblioteki"
   ]
  },
  {
   "cell_type": "code",
   "execution_count": 2,
   "metadata": {},
   "outputs": [],
   "source": [
    "import pandas as pd\n",
    "import numpy as np\n",
    "\n",
    "from tensorflow import Tensor\n",
    "from tensorflow.keras import Model\n",
    "from tensorflow.keras.layers import Input, Dense, concatenate\n",
    "from tensorflow.keras.optimizers import Adam\n",
    "\n",
    "from sklearn.metrics import roc_auc_score\n",
    "from sklearn.model_selection import KFold\n",
    "\n",
    "import matplotlib.pyplot as plt\n",
    "\n",
    "from logger import AfterEpochLogger"
   ]
  },
  {
   "cell_type": "markdown",
   "metadata": {},
   "source": [
    "Funckcja one_hot_encode"
   ]
  },
  {
   "cell_type": "code",
   "execution_count": 3,
   "metadata": {},
   "outputs": [],
   "source": [
    "def one_hot_encode(x: pd.Series) -> np.array:\n",
    "    label = x.unique()\n",
    "    label.sort()\n",
    "    M = np.eye(x.nunique())\n",
    "    dictionary = dict(zip(label, M))\n",
    "    result = []\n",
    "    for ex in x:\n",
    "        result.append(dictionary[ex])\n",
    "    return np.array(result)"
   ]
  },
  {
   "cell_type": "markdown",
   "metadata": {},
   "source": [
    "Funckcja create_input_layer"
   ]
  },
  {
   "cell_type": "code",
   "execution_count": 4,
   "metadata": {},
   "outputs": [],
   "source": [
    "def create_input_layer(feature: np.array) -> (Tensor, Tensor):\n",
    "    input_layer = Input(shape=(len(feature[0]),))\n",
    "    x = Dense(2, activation='relu', use_bias=True)(input_layer)\n",
    "    return input_layer, x"
   ]
  },
  {
   "cell_type": "markdown",
   "metadata": {},
   "source": [
    "Wczytanie danych z pliku"
   ]
  },
  {
   "cell_type": "code",
   "execution_count": null,
   "metadata": {},
   "outputs": [],
   "source": [
    "df = pd.read_csv('poker-hand-testing.data', header=None, sep=',')"
   ]
  },
  {
   "cell_type": "markdown",
   "metadata": {},
   "source": [
    "Stworzenie sieci"
   ]
  },
  {
   "cell_type": "code",
   "execution_count": 5,
   "metadata": {},
   "outputs": [],
   "source": [
    "features = df.iloc[:, :-1].copy()\n",
    "X = []\n",
    "Y = one_hot_encode(df[len(df.columns) - 1])\n",
    "for feature_column_number in features:\n",
    "    X.append(one_hot_encode(features[feature_column_number]))\n",
    "\n",
    "inputs = []\n",
    "outputs = []\n",
    "\n",
    "for i in range(len(X)):\n",
    "    input, output = create_input_layer(X[i])\n",
    "    inputs.append(input)\n",
    "    outputs.append(output)\n",
    "\n",
    "combined = concatenate(outputs)\n",
    "\n",
    "h1 = Dense(30, activation='relu', use_bias=True)(combined)\n",
    "h2 = Dense(20, activation='relu', use_bias=True)(h1)\n",
    "y = Dense(10, activation='softmax')(h2)\n",
    "\n",
    "k_fold = KFold(n_splits=5)\n",
    "\n",
    "loggers = []\n",
    "scores = []"
   ]
  },
  {
   "cell_type": "markdown",
   "metadata": {},
   "source": [
    "Uczenie"
   ]
  },
  {
   "cell_type": "code",
   "execution_count": 6,
   "metadata": {},
   "outputs": [
    {
     "name": "stdout",
     "output_type": "stream",
     "text": [
      "Train on 640000 samples, validate on 160000 samples\n",
      "Epoch 1/10\n",
      "640000/640000 [==============================] - 15s 24us/sample - loss: 1.0064 - accuracy: 0.4957 - val_loss: 0.9818 - val_accuracy: 0.4970\n",
      "Epoch 2/10\n",
      "640000/640000 [==============================] - 13s 20us/sample - loss: 0.9590 - accuracy: 0.5311 - val_loss: 0.9467 - val_accuracy: 0.5452\n",
      "Epoch 3/10\n",
      "640000/640000 [==============================] - 12s 19us/sample - loss: 0.9409 - accuracy: 0.5484 - val_loss: 0.9361 - val_accuracy: 0.5569\n",
      "Epoch 4/10\n",
      "640000/640000 [==============================] - 12s 19us/sample - loss: 0.9217 - accuracy: 0.5665 - val_loss: 0.9144 - val_accuracy: 0.5755\n",
      "Epoch 5/10\n",
      "637696/640000 [============================>.] - ETA: 0s - loss: 0.9031 - accuracy: 0.5821Epoch: 5\n",
      "\tTrain Accuracy:\t0.58%\tValidation Accuracy\t0.59%\n",
      "\tTrain Loss\t0.90\tValidation Loss:\t0.90\n",
      "640000/640000 [==============================] - 14s 22us/sample - loss: 0.9030 - accuracy: 0.5822 - val_loss: 0.8958 - val_accuracy: 0.5898\n",
      "Epoch 6/10\n",
      "640000/640000 [==============================] - 13s 20us/sample - loss: 0.8881 - accuracy: 0.5912 - val_loss: 0.8876 - val_accuracy: 0.5944\n",
      "Epoch 7/10\n",
      "640000/640000 [==============================] - 12s 19us/sample - loss: 0.8777 - accuracy: 0.5970 - val_loss: 0.8740 - val_accuracy: 0.5998\n",
      "Epoch 8/10\n",
      "640000/640000 [==============================] - 12s 19us/sample - loss: 0.8700 - accuracy: 0.6011 - val_loss: 0.8726 - val_accuracy: 0.5988\n",
      "Epoch 9/10\n",
      "640000/640000 [==============================] - 15s 23us/sample - loss: 0.8651 - accuracy: 0.6036 - val_loss: 0.8648 - val_accuracy: 0.6036\n",
      "Epoch 10/10\n",
      "638720/640000 [============================>.] - ETA: 0s - loss: 0.8613 - accuracy: 0.6055Epoch: 10\n",
      "\tTrain Accuracy:\t0.61%\tValidation Accuracy\t0.61%\n",
      "\tTrain Loss\t0.86\tValidation Loss:\t0.86\n",
      "640000/640000 [==============================] - 14s 22us/sample - loss: 0.8613 - accuracy: 0.6055 - val_loss: 0.8614 - val_accuracy: 0.6062\n",
      "Train data AUC value for that fold:  95.39%\n",
      "Test data AUC value for that fold:  95.40%\n",
      "Train on 640000 samples, validate on 160000 samples\n",
      "Epoch 1/10\n",
      "640000/640000 [==============================] - 18s 28us/sample - loss: 0.8565 - accuracy: 0.6077 - val_loss: 0.8560 - val_accuracy: 0.6110\n",
      "Epoch 2/10\n",
      "640000/640000 [==============================] - 16s 26us/sample - loss: 0.8534 - accuracy: 0.6091 - val_loss: 0.8546 - val_accuracy: 0.6122\n",
      "Epoch 3/10\n",
      "640000/640000 [==============================] - 19s 30us/sample - loss: 0.8489 - accuracy: 0.6120 - val_loss: 0.8514 - val_accuracy: 0.6113\n",
      "Epoch 4/10\n",
      "640000/640000 [==============================] - 14s 22us/sample - loss: 0.8459 - accuracy: 0.6136 - val_loss: 0.8500 - val_accuracy: 0.6125\n",
      "Epoch 5/10\n",
      "639232/640000 [============================>.] - ETA: 0s - loss: 0.8430 - accuracy: 0.6152Epoch: 5\n",
      "\tTrain Accuracy:\t0.62%\tValidation Accuracy\t0.62%\n",
      "\tTrain Loss\t0.84\tValidation Loss:\t0.84\n",
      "640000/640000 [==============================] - 12s 19us/sample - loss: 0.8430 - accuracy: 0.6151 - val_loss: 0.8433 - val_accuracy: 0.6168\n",
      "Epoch 6/10\n",
      "640000/640000 [==============================] - 12s 18us/sample - loss: 0.8401 - accuracy: 0.6166 - val_loss: 0.8422 - val_accuracy: 0.6153\n",
      "Epoch 7/10\n",
      "640000/640000 [==============================] - 13s 20us/sample - loss: 0.8378 - accuracy: 0.6180 - val_loss: 0.8387 - val_accuracy: 0.6207\n",
      "Epoch 8/10\n",
      "640000/640000 [==============================] - 20s 31us/sample - loss: 0.8351 - accuracy: 0.6201 - val_loss: 0.8372 - val_accuracy: 0.6211\n",
      "Epoch 9/10\n",
      "640000/640000 [==============================] - 17s 26us/sample - loss: 0.8336 - accuracy: 0.6201 - val_loss: 0.8344 - val_accuracy: 0.6209\n",
      "Epoch 10/10\n",
      "638208/640000 [============================>.] - ETA: 0s - loss: 0.8325 - accuracy: 0.6209Epoch: 10\n",
      "\tTrain Accuracy:\t0.62%\tValidation Accuracy\t0.62%\n",
      "\tTrain Loss\t0.83\tValidation Loss:\t0.83\n",
      "640000/640000 [==============================] - 18s 28us/sample - loss: 0.8325 - accuracy: 0.6209 - val_loss: 0.8346 - val_accuracy: 0.6216\n",
      "Train data AUC value for that fold:  95.69%\n",
      "Test data AUC value for that fold:  95.67%\n",
      "Train on 640000 samples, validate on 160000 samples\n",
      "Epoch 1/10\n",
      "640000/640000 [==============================] - 14s 23us/sample - loss: 0.8318 - accuracy: 0.6217 - val_loss: 0.8347 - val_accuracy: 0.6221\n",
      "Epoch 2/10\n",
      "640000/640000 [==============================] - 11s 16us/sample - loss: 0.8312 - accuracy: 0.6213 - val_loss: 0.8349 - val_accuracy: 0.6211\n",
      "Epoch 3/10\n",
      "640000/640000 [==============================] - 16s 26us/sample - loss: 0.8303 - accuracy: 0.6222 - val_loss: 0.8345 - val_accuracy: 0.6215\n",
      "Epoch 4/10\n",
      "640000/640000 [==============================] - 16s 24us/sample - loss: 0.8296 - accuracy: 0.6222 - val_loss: 0.8372 - val_accuracy: 0.6207\n",
      "Epoch 5/10\n",
      "638976/640000 [============================>.] - ETA: 0s - loss: 0.8289 - accuracy: 0.6231Epoch: 5\n",
      "\tTrain Accuracy:\t0.62%\tValidation Accuracy\t0.62%\n",
      "\tTrain Loss\t0.83\tValidation Loss:\t0.83\n",
      "640000/640000 [==============================] - 16s 24us/sample - loss: 0.8289 - accuracy: 0.6231 - val_loss: 0.8326 - val_accuracy: 0.6227\n",
      "Epoch 6/10\n",
      "640000/640000 [==============================] - 16s 25us/sample - loss: 0.8281 - accuracy: 0.6229 - val_loss: 0.8309 - val_accuracy: 0.6237\n",
      "Epoch 7/10\n",
      "640000/640000 [==============================] - 15s 24us/sample - loss: 0.8276 - accuracy: 0.6241 - val_loss: 0.8318 - val_accuracy: 0.6234\n",
      "Epoch 8/10\n",
      "640000/640000 [==============================] - 15s 24us/sample - loss: 0.8267 - accuracy: 0.6241 - val_loss: 0.8299 - val_accuracy: 0.6226\n",
      "Epoch 9/10\n",
      "640000/640000 [==============================] - 17s 26us/sample - loss: 0.8261 - accuracy: 0.6249 - val_loss: 0.8340 - val_accuracy: 0.6205\n",
      "Epoch 10/10\n",
      "639744/640000 [============================>.] - ETA: 0s - loss: 0.8256 - accuracy: 0.6246Epoch: 10\n",
      "\tTrain Accuracy:\t0.62%\tValidation Accuracy\t0.62%\n",
      "\tTrain Loss\t0.83\tValidation Loss:\t0.83\n",
      "640000/640000 [==============================] - 16s 24us/sample - loss: 0.8257 - accuracy: 0.6245 - val_loss: 0.8294 - val_accuracy: 0.6237\n",
      "Train data AUC value for that fold:  95.76%\n",
      "Test data AUC value for that fold:  95.75%\n",
      "Train on 640000 samples, validate on 160000 samples\n",
      "Epoch 1/10\n",
      "640000/640000 [==============================] - 20s 31us/sample - loss: 0.8257 - accuracy: 0.6253 - val_loss: 0.8275 - val_accuracy: 0.6249\n",
      "Epoch 2/10\n",
      "640000/640000 [==============================] - 21s 33us/sample - loss: 0.8254 - accuracy: 0.6260 - val_loss: 0.8280 - val_accuracy: 0.6248\n",
      "Epoch 3/10\n",
      "640000/640000 [==============================] - 20s 32us/sample - loss: 0.8247 - accuracy: 0.6258 - val_loss: 0.8270 - val_accuracy: 0.6247\n",
      "Epoch 4/10\n",
      "640000/640000 [==============================] - 18s 27us/sample - loss: 0.8242 - accuracy: 0.6261 - val_loss: 0.8261 - val_accuracy: 0.6261\n",
      "Epoch 5/10\n",
      "639744/640000 [============================>.] - ETA: 0s - loss: 0.8230 - accuracy: 0.6270Epoch: 5\n",
      "\tTrain Accuracy:\t0.63%\tValidation Accuracy\t0.62%\n",
      "\tTrain Loss\t0.82\tValidation Loss:\t0.83\n",
      "640000/640000 [==============================] - 17s 27us/sample - loss: 0.8230 - accuracy: 0.6269 - val_loss: 0.8274 - val_accuracy: 0.6238\n",
      "Epoch 6/10\n",
      "640000/640000 [==============================] - 18s 28us/sample - loss: 0.8221 - accuracy: 0.6274 - val_loss: 0.8231 - val_accuracy: 0.6281\n",
      "Epoch 7/10\n",
      "640000/640000 [==============================] - 17s 26us/sample - loss: 0.8211 - accuracy: 0.6282 - val_loss: 0.8246 - val_accuracy: 0.6282\n",
      "Epoch 8/10\n",
      "640000/640000 [==============================] - 17s 26us/sample - loss: 0.8206 - accuracy: 0.6281 - val_loss: 0.8227 - val_accuracy: 0.6286\n",
      "Epoch 9/10\n",
      "640000/640000 [==============================] - 16s 25us/sample - loss: 0.8202 - accuracy: 0.6281 - val_loss: 0.8230 - val_accuracy: 0.6264\n",
      "Epoch 10/10\n",
      "639232/640000 [============================>.] - ETA: 0s - loss: 0.8196 - accuracy: 0.6284Epoch: 10\n",
      "\tTrain Accuracy:\t0.63%\tValidation Accuracy\t0.63%\n",
      "\tTrain Loss\t0.82\tValidation Loss:\t0.83\n",
      "640000/640000 [==============================] - 17s 26us/sample - loss: 0.8197 - accuracy: 0.6284 - val_loss: 0.8269 - val_accuracy: 0.6250\n",
      "Train data AUC value for that fold:  95.80%\n",
      "Test data AUC value for that fold:  95.81%\n",
      "Train on 640000 samples, validate on 160000 samples\n",
      "Epoch 1/10\n"
     ]
    },
    {
     "name": "stdout",
     "output_type": "stream",
     "text": [
      "640000/640000 [==============================] - 20s 31us/sample - loss: 0.8193 - accuracy: 0.6282 - val_loss: 0.8164 - val_accuracy: 0.6303\n",
      "Epoch 2/10\n",
      "640000/640000 [==============================] - 16s 25us/sample - loss: 0.8187 - accuracy: 0.6292 - val_loss: 0.8164 - val_accuracy: 0.6298\n",
      "Epoch 3/10\n",
      "640000/640000 [==============================] - 18s 28us/sample - loss: 0.8181 - accuracy: 0.6289 - val_loss: 0.8193 - val_accuracy: 0.6287\n",
      "Epoch 4/10\n",
      "640000/640000 [==============================] - 18s 29us/sample - loss: 0.8177 - accuracy: 0.6291 - val_loss: 0.8204 - val_accuracy: 0.6255\n",
      "Epoch 5/10\n",
      "639232/640000 [============================>.] - ETA: 0s - loss: 0.8176 - accuracy: 0.6286Epoch: 5\n",
      "\tTrain Accuracy:\t0.63%\tValidation Accuracy\t0.63%\n",
      "\tTrain Loss\t0.82\tValidation Loss:\t0.82\n",
      "640000/640000 [==============================] - 21s 33us/sample - loss: 0.8177 - accuracy: 0.6286 - val_loss: 0.8183 - val_accuracy: 0.6299\n",
      "Epoch 6/10\n",
      "640000/640000 [==============================] - 17s 26us/sample - loss: 0.8169 - accuracy: 0.6294 - val_loss: 0.8147 - val_accuracy: 0.6304\n",
      "Epoch 7/10\n",
      "640000/640000 [==============================] - 17s 26us/sample - loss: 0.8153 - accuracy: 0.6302 - val_loss: 0.8115 - val_accuracy: 0.6336\n",
      "Epoch 8/10\n",
      "640000/640000 [==============================] - 17s 26us/sample - loss: 0.8143 - accuracy: 0.6310 - val_loss: 0.8199 - val_accuracy: 0.6281\n",
      "Epoch 9/10\n",
      "640000/640000 [==============================] - 17s 27us/sample - loss: 0.8136 - accuracy: 0.6311 - val_loss: 0.8125 - val_accuracy: 0.6321\n",
      "Epoch 10/10\n",
      "638464/640000 [============================>.] - ETA: 0s - loss: 0.8135 - accuracy: 0.6315Epoch: 10\n",
      "\tTrain Accuracy:\t0.63%\tValidation Accuracy\t0.63%\n",
      "\tTrain Loss\t0.81\tValidation Loss:\t0.81\n",
      "640000/640000 [==============================] - 18s 29us/sample - loss: 0.8135 - accuracy: 0.6316 - val_loss: 0.8110 - val_accuracy: 0.6320\n",
      "Train data AUC value for that fold:  95.91%\n",
      "Test data AUC value for that fold:  95.88%\n"
     ]
    }
   ],
   "source": [
    "for train_index, test_index in k_fold.split(X[0]):\n",
    "    X_train = []\n",
    "    X_test = []\n",
    "    for feature_index in range(len(X)):\n",
    "        X_train.append(X[feature_index][train_index])\n",
    "        X_test.append(X[feature_index][test_index])\n",
    "    Y_train, Y_test = Y[train_index], Y[test_index]\n",
    "\n",
    "    model = Model(inputs=inputs, outputs=y)\n",
    "    model.compile(loss='categorical_crossentropy', metrics=['accuracy'], optimizer=Adam())\n",
    "    logger = AfterEpochLogger(5)\n",
    "    model.fit(X_train, Y_train, validation_split=0.2, epochs=10, batch_size=256, callbacks=[logger])\n",
    "\n",
    "    predicts_train = model.predict(X_train)\n",
    "    score_train = roc_auc_score(Y_train, predicts_train, average='micro')\n",
    "    predicts = model.predict(X_test)\n",
    "    score = roc_auc_score(Y_test, predicts, average='micro')\n",
    "    print(\"%s %.2f%%\" % ('Train data AUC value for that fold: ', score_train * 100))\n",
    "    print(\"%s %.2f%%\" % ('Test data AUC value for that fold: ', score * 100))\n",
    "    scores.append(score * 100)\n",
    "    loggers.append(logger)"
   ]
  },
  {
   "cell_type": "markdown",
   "metadata": {},
   "source": [
    "Wyniki w postaci wykresów"
   ]
  },
  {
   "cell_type": "code",
   "execution_count": 7,
   "metadata": {},
   "outputs": [
    {
     "name": "stdout",
     "output_type": "stream",
     "text": [
      "5 fold AUC (2 sigma/95% confidence): 95.70% (+/- 0.34%)\n"
     ]
    },
    {
     "data": {
      "image/png": "[encoded data removed]",
      "text/plain": [
       "<Figure size 1080x1440 with 8 Axes>"
      ]
     },
     "metadata": {
      "needs_background": "light"
     },
     "output_type": "display_data"
    }
   ],
   "source": [
    "print(\"5 fold AUC (2 sigma/95%% confidence): %.2f%% (+/- %.2f%%)\" % (np.mean(scores), 2*np.std(scores)))\n",
    "# TODO clean code\n",
    "plt.figure(figsize=(15, 20))\n",
    "plt.subplot(421)\n",
    "plt.ylim([0, 1])\n",
    "plt.ylabel('Training loss')\n",
    "plt.xlabel('Epoch')\n",
    "plt.title('Training loss')\n",
    "plt.plot(loggers[0].history_loss)\n",
    "plt.plot(loggers[1].history_loss)\n",
    "plt.plot(loggers[2].history_loss)\n",
    "plt.plot(loggers[3].history_loss)\n",
    "plt.plot(loggers[4].history_loss)\n",
    "plt.legend(['Fold 1', 'Fold 2', 'Fold 3', 'Fold 4', 'Fold 5'])\n",
    "plt.subplot(422)\n",
    "plt.title('Averaged training loss')\n",
    "avg_loss = np.sum([loggers[i].history_loss for i in range(5)], axis=0)/5\n",
    "plt.ylim([0, 1])\n",
    "plt.plot(avg_loss)\n",
    "\n",
    "plt.subplot(423)\n",
    "plt.ylim([0, 1])\n",
    "plt.ylabel('Validation loss')\n",
    "plt.plot(loggers[0].val_history_loss)\n",
    "plt.plot(loggers[1].val_history_loss)\n",
    "plt.plot(loggers[2].val_history_loss)\n",
    "plt.plot(loggers[3].val_history_loss)\n",
    "plt.plot(loggers[4].val_history_loss)\n",
    "plt.subplot(424)\n",
    "avg_val_loss = np.sum([loggers[i].val_history_loss for i in range(5)], axis=0)/5\n",
    "plt.ylim([0,1])\n",
    "plt.plot(avg_val_loss)\n",
    "\n",
    "plt.subplot(425)\n",
    "plt.ylim([0, 1])\n",
    "plt.ylabel('Training acc')\n",
    "plt.plot(loggers[0].history_accuracy)\n",
    "plt.plot(loggers[1].history_accuracy)\n",
    "plt.plot(loggers[2].history_accuracy)\n",
    "plt.plot(loggers[3].history_accuracy)\n",
    "plt.plot(loggers[4].history_accuracy)\n",
    "plt.subplot(426)\n",
    "avg_acc = np.sum([loggers[i].history_accuracy for i in range(5)], axis=0)/5\n",
    "plt.ylim([0, 1])\n",
    "plt.plot(avg_acc)\n",
    "\n",
    "plt.subplot(427)\n",
    "plt.ylim([0, 1])\n",
    "plt.ylabel('Validation acc')\n",
    "plt.plot(loggers[0].val_history_accuracy)\n",
    "plt.plot(loggers[1].val_history_accuracy)\n",
    "plt.plot(loggers[2].val_history_accuracy)\n",
    "plt.plot(loggers[3].val_history_accuracy)\n",
    "plt.plot(loggers[4].val_history_accuracy)\n",
    "plt.subplot(428)\n",
    "avg_val_acc = np.sum([loggers[i].val_history_accuracy for i in range(5)], axis=0)/5\n",
    "plt.ylim([0, 1])\n",
    "plt.plot(avg_val_acc)\n",
    "\n",
    "plt.savefig('plot.png')"
   ]
  },
  {
   "cell_type": "markdown",
   "metadata": {},
   "source": [
    "        "
   ]
  }
 ],
 "metadata": {
  "kernelspec": {
   "display_name": "Python 3",
   "language": "python",
   "name": "python3"
  },
  "language_info": {
   "codemirror_mode": {
    "name": "ipython",
    "version": 3
   },
   "file_extension": ".py",
   "mimetype": "text/x-python",
   "name": "python",
   "nbconvert_exporter": "python",
   "pygments_lexer": "ipython3",
   "version": "3.7.5"
  }
 },
 "nbformat": 4,
 "nbformat_minor": 4
}
